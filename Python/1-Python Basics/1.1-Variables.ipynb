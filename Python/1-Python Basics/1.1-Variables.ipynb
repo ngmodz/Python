{
 "cells": [
  {
   "cell_type": "markdown",
   "id": "972afbae",
   "metadata": {},
   "source": [
    "## Variables\n",
    "\n",
    "Variables are fundamental elements in programming used to store data that can be referenced and manipulated in a program. In Python, variables are created when you assign a value to them, and they do not need explicit declaration to reserve memory space. The declaration happens automatically when you assign a value to a variable.\n",
    "\n",
    "### Outline\n",
    "\n",
    "- Introduction to Variables\n",
    "- Declaring and Assigning Variables\n",
    "- Naming Conventions\n",
    "- Understanding Variable Types\n",
    "- Type Checking and Conversion\n",
    "- Dynamic Typing\n",
    "- Practical Examples and Common Errors"
   ]
  },
  {
   "cell_type": "code",
   "execution_count": 1,
   "id": "e14ece8e",
   "metadata": {},
   "outputs": [],
   "source": [
    "a = 100"
   ]
  },
  {
   "cell_type": "code",
   "execution_count": 4,
   "id": "e6c95c2f",
   "metadata": {},
   "outputs": [
    {
     "name": "stdout",
     "output_type": "stream",
     "text": [
      "Age :  20\n",
      "Height :  6\n",
      "Name :  Nishant\n",
      "Is Student :  True\n"
     ]
    }
   ],
   "source": [
    "## Declaring and assigning variables\n",
    "\n",
    "from operator import truediv\n",
    "\n",
    "\n",
    "age = 20\n",
    "height = 6\n",
    "name = \"Nishant\"\n",
    "is_Student = True\n",
    "\n",
    "## Printing the variables\n",
    "\n",
    "print(\"Age : \" , age)\n",
    "print(\"Height : \" , height)\n",
    "print(\"Name : \", name)\n",
    "print(\"Is Student : \", is_Student)"
   ]
  },
  {
   "cell_type": "code",
   "execution_count": 5,
   "id": "192947ce",
   "metadata": {},
   "outputs": [],
   "source": [
    "# Naming conventions\n",
    "# Variables name should be descriptive\n",
    "# They must start with h letter or underscore and contains letter, number and underscores\n",
    "# variables names are case sensitive\n",
    "\n",
    "# valid variable name\n",
    "\n",
    "first_name = \"Nishant\"\n",
    "last_name = \"Grewal\"\n",
    "\n",
    "# invalid variable names\n",
    "\n",
    "# 2age = 20\n",
    "# first-name = \"Nishant\"\n",
    "# @name = \"Nishant\""
   ]
  },
  {
   "cell_type": "code",
   "execution_count": null,
   "id": "34bb9c6a",
   "metadata": {},
   "outputs": [],
   "source": [
    "# case sensitivity\n",
    "\n",
    "name = \"Nishant\"\n",
    "Name = \"Nishant\"        # both are different"
   ]
  },
  {
   "cell_type": "code",
   "execution_count": 6,
   "id": "0d4c19b1",
   "metadata": {},
   "outputs": [
    {
     "name": "stdout",
     "output_type": "stream",
     "text": [
      "<class 'int'>\n",
      "<class 'str'>\n"
     ]
    }
   ],
   "source": [
    "# Understanding Variable Types \n",
    "\n",
    "# Python is dynamically typed. Type of variable is determined at runtime.\n",
    "\n",
    "age = 20            # integer\n",
    "height = 6.1        # float\n",
    "name = \"Nishant\"    # string\n",
    "is_Student = True   # boolean\n",
    "\n",
    "print(type(age))\n",
    "print(type(name))"
   ]
  },
  {
   "cell_type": "code",
   "execution_count": 7,
   "id": "2ff74f65",
   "metadata": {},
   "outputs": [
    {
     "data": {
      "text/plain": [
       "float"
      ]
     },
     "execution_count": 7,
     "metadata": {},
     "output_type": "execute_result"
    }
   ],
   "source": [
    "# Type checking and conversion \n",
    "\n",
    "type(height)"
   ]
  },
  {
   "cell_type": "code",
   "execution_count": 12,
   "id": "1529d7b7",
   "metadata": {},
   "outputs": [
    {
     "name": "stdout",
     "output_type": "stream",
     "text": [
      "<class 'int'>\n",
      "20\n",
      "<class 'str'>\n"
     ]
    }
   ],
   "source": [
    "age = 20\n",
    "print(type(age))\n",
    "\n",
    "# type conversion\n",
    "\n",
    "age_str = str(age)      # Converted to string using str function. \n",
    "print(age_str)\n",
    "print(type(age_str))"
   ]
  },
  {
   "cell_type": "code",
   "execution_count": null,
   "id": "45686018",
   "metadata": {},
   "outputs": [
    {
     "name": "stdout",
     "output_type": "stream",
     "text": [
      "<class 'str'>\n"
     ]
    }
   ],
   "source": [
    "age = '20'          # Another type of type conversion \n",
    "int(age)            # Only the numerical value in a string can be converted into int. \n",
    "print(type(age))"
   ]
  },
  {
   "cell_type": "code",
   "execution_count": 14,
   "id": "48a751e4",
   "metadata": {},
   "outputs": [],
   "source": [
    "# name = \"Nishant\"\n",
    "# int(name)           # The name can't be converted to int because it is a word.   "
   ]
  },
  {
   "cell_type": "code",
   "execution_count": 19,
   "id": "ca7ddddc",
   "metadata": {},
   "outputs": [
    {
     "data": {
      "text/plain": [
       "5.0"
      ]
     },
     "execution_count": 19,
     "metadata": {},
     "output_type": "execute_result"
    }
   ],
   "source": [
    "height = 5.11\n",
    "type(height)\n",
    "\n",
    "int(height)\n",
    "\n",
    "float(int(height))"
   ]
  },
  {
   "cell_type": "code",
   "execution_count": 24,
   "id": "49f4445e",
   "metadata": {},
   "outputs": [
    {
     "name": "stdout",
     "output_type": "stream",
     "text": [
      "10 <class 'int'>\n",
      "Hello <class 'str'>\n",
      "3.14 <class 'float'>\n"
     ]
    }
   ],
   "source": [
    "# Dynamic typing \n",
    "# Python allows the type of a variable to change when the program executes. \n",
    "var = 10        # int\n",
    "print(var, type(var))\n",
    "\n",
    "var = \"Hello\"   # string\n",
    "print(var, type(var))\n",
    "\n",
    "var = 3.14      # float\n",
    "print(var, type(var))"
   ]
  },
  {
   "cell_type": "code",
   "execution_count": 34,
   "id": "80778b88",
   "metadata": {},
   "outputs": [
    {
     "name": "stdout",
     "output_type": "stream",
     "text": [
      "22 <class 'int'>\n"
     ]
    }
   ],
   "source": [
    "# input \n",
    "\n",
    "# age = input(\"What is the age : \")     # Default type of input is string. \n",
    "age = int(input(\"What is the age : \"))  # The input is converted into an integer. \n",
    "\n",
    "print(age, type(age))      "
   ]
  },
  {
   "cell_type": "markdown",
   "id": "be1880cb",
   "metadata": {},
   "source": [
    "### Simple Calculator"
   ]
  },
  {
   "cell_type": "code",
   "execution_count": 37,
   "id": "d879c8a8",
   "metadata": {},
   "outputs": [
    {
     "name": "stdout",
     "output_type": "stream",
     "text": [
      "Sum is :  30.0\n",
      "Difference is :  10.0\n",
      "Product is :  200.0\n",
      "Quotient  is :  2.0\n",
      "Remainder is :  0.0\n"
     ]
    }
   ],
   "source": [
    "from math import remainder\n",
    "\n",
    "\n",
    "num1 = float(input(\"Enter first number : \"))\n",
    "num2 = float(input(\"Enter second number : \"))\n",
    "\n",
    "sum = num1 + num2\n",
    "difference = num1 - num2\n",
    "product = num1 * num2\n",
    "quotient = num1 / num2\n",
    "remainder = num1 % num2\n",
    "\n",
    "print(\"Sum is : \", sum)\n",
    "print(\"Difference is : \", difference)\n",
    "print(\"Product is : \", product)\n",
    "print(\"Quotient  is : \", quotient)\n",
    "print(\"Remainder is : \", remainder)"
   ]
  }
 ],
 "metadata": {
  "kernelspec": {
   "display_name": "Python 3",
   "language": "python",
   "name": "python3"
  },
  "language_info": {
   "codemirror_mode": {
    "name": "ipython",
    "version": 3
   },
   "file_extension": ".py",
   "mimetype": "text/x-python",
   "name": "python",
   "nbconvert_exporter": "python",
   "pygments_lexer": "ipython3",
   "version": "3.12.11"
  }
 },
 "nbformat": 4,
 "nbformat_minor": 5
}

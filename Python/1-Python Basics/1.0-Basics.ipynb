{
 "cells": [
  {
   "cell_type": "markdown",
   "id": "53feaa70",
   "metadata": {},
   "source": [
    "## Syntax and Semantics in Python\n",
    "\n",
    "### Outline:\n",
    "\n",
    "- Single line Comments and multiline comments\n",
    "- Definition of Syntax and Semantics\n",
    "- Basic Syntax Rules in Python\n",
    "- Understanding Semantics in Python\n",
    "- Common Syntax Errors and How to Avoid Them\n",
    "- Practical Code Examples\n",
    "\n",
    "**Syntax** refers to the set of rules that defines the combinations of symbols that are considered to be correctly structured programs in a language. In simpler terms, syntax is about the correct arrangement of words and symbols in a code.\n",
    "\n",
    "**Semantics** refers to the meaning or the interpretation of the symbols, characters, and commands in a language.  \n",
    "It is about what the code is supposed to do when it runs."
   ]
  },
  {
   "cell_type": "code",
   "execution_count": 10,
   "id": "f79fed91",
   "metadata": {},
   "outputs": [
    {
     "name": "stdout",
     "output_type": "stream",
     "text": [
      "Nishant\n",
      "Grewal\n"
     ]
    }
   ],
   "source": [
    "## Basic syntax rules in Python\n",
    "## Case sensitive- Python is case sensitive language\n",
    "\n",
    "name=\"Nishant\"\n",
    "Name=\"Grewal\"\n",
    "\n",
    "print(name)\n",
    "print(Name)"
   ]
  },
  {
   "cell_type": "code",
   "execution_count": 11,
   "id": "a24724dc",
   "metadata": {},
   "outputs": [
    {
     "name": "stdout",
     "output_type": "stream",
     "text": [
      "Hello\n",
      "World\n"
     ]
    }
   ],
   "source": [
    "## Indentation\n",
    "## Python uses indentation to define block of code. Consistent use of spaces (commonly 4) or a tab is required\n",
    "\n",
    "age = 32\n",
    "if(age>30):\n",
    "    \n",
    "    print(\"Hello\")\n",
    "\n",
    "print(\"World\")"
   ]
  },
  {
   "cell_type": "code",
   "execution_count": 12,
   "id": "10522738",
   "metadata": {},
   "outputs": [
    {
     "name": "stdout",
     "output_type": "stream",
     "text": [
      "45\n"
     ]
    }
   ],
   "source": [
    "## Line continuation\n",
    "\n",
    "total = 1+2+3+4+5 + \\\n",
    "6+7+8+9\n",
    "\n",
    "print(total)"
   ]
  },
  {
   "cell_type": "code",
   "execution_count": 13,
   "id": "a37c99cc",
   "metadata": {},
   "outputs": [
    {
     "name": "stdout",
     "output_type": "stream",
     "text": [
      "15\n"
     ]
    }
   ],
   "source": [
    "## Multiple statements on a single line\n",
    "\n",
    "x=5; y=10; z=x+y\n",
    "print(z)"
   ]
  },
  {
   "cell_type": "code",
   "execution_count": 19,
   "id": "e0c68e23",
   "metadata": {},
   "outputs": [
    {
     "name": "stdout",
     "output_type": "stream",
     "text": [
      "<class 'int'>\n",
      "<class 'str'>\n",
      "<class 'str'>\n"
     ]
    }
   ],
   "source": [
    "## Understand semantics in python\n",
    "\n",
    "# Variable assignment\n",
    "\n",
    "age=32              ## age is an integer\n",
    "name=\"Nishant\"      ## name is a string             ## automatically detected at runtime\n",
    "\n",
    "print(type(age))\n",
    "print(type(name))\n",
    "\n",
    "age = \"Grewal\"\n",
    "print(type(age))"
   ]
  }
 ],
 "metadata": {
  "kernelspec": {
   "display_name": "Python 3",
   "language": "python",
   "name": "python3"
  },
  "language_info": {
   "codemirror_mode": {
    "name": "ipython",
    "version": 3
   },
   "file_extension": ".py",
   "mimetype": "text/x-python",
   "name": "python",
   "nbconvert_exporter": "python",
   "pygments_lexer": "ipython3",
   "version": "3.12.11"
  }
 },
 "nbformat": 4,
 "nbformat_minor": 5
}

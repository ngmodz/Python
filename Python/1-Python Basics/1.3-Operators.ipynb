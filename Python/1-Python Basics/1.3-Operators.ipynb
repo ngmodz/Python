{
 "cells": [
  {
   "cell_type": "markdown",
   "id": "26f13eea",
   "metadata": {},
   "source": [
    "## OPERATORS"
   ]
  },
  {
   "cell_type": "markdown",
   "id": "6482861f",
   "metadata": {},
   "source": [
    "### Outline:\n",
    "1. Introduction to Operators\n",
    "2. Arithmetic Operators\n",
    "   - Addition\n",
    "   - Subtraction\n",
    "   - Multiplication\n",
    "   - Division\n",
    "   - Floor Division\n",
    "   - Modulus\n",
    "   - Exponentiation\n",
    "3. Comparison Operators\n",
    "   - Equal to\n",
    "   - Not equal to\n",
    "   - Greater than\n",
    "   - Less than\n",
    "   - Greater than or equal to \n",
    "   - Less than or equal to\n",
    "4. Logical Operators\n",
    "   - AND\n",
    "   - OR\n",
    "   - NOT\n",
    "5. Practical Examples and Common Errors"
   ]
  },
  {
   "cell_type": "code",
   "execution_count": null,
   "id": "af038489",
   "metadata": {},
   "outputs": [
    {
     "name": "stdout",
     "output_type": "stream",
     "text": [
      "Sum is :  15\n",
      "Difference is :  5\n",
      "Product is :  50\n",
      "Quotient  is :  2.0\n",
      "Remainder is :  0\n",
      "Floor division is :  2\n",
      "Exponential result is :  100000\n"
     ]
    }
   ],
   "source": [
    "# Arithmetic operations\n",
    "\n",
    "num1=10\n",
    "num2=5\n",
    "\n",
    "sum = num1 + num2\n",
    "difference = num1 - num2\n",
    "product = num1 * num2\n",
    "quotient = num1 / num2\n",
    "remainder = num1 % num2\n",
    "\n",
    "floor_Div_Result = num1//num2       # Floor division, Remove the decimal and gives the lower value. \n",
    "exponential_Result = num1**num2     # num1 to the power of num2\n",
    "\n",
    "\n",
    "print(\"Sum is : \", sum)\n",
    "print(\"Difference is : \", difference)\n",
    "print(\"Product is : \", product)\n",
    "print(\"Quotient  is : \", quotient)\n",
    "print(\"Remainder is : \", remainder)\n",
    "print(\"Floor division is : \", floor_Div_Result)\n",
    "print(\"Exponential result is : \", exponential_Result)"
   ]
  },
  {
   "cell_type": "markdown",
   "id": "cbfaabca",
   "metadata": {},
   "source": [
    "## Comparison operators"
   ]
  },
  {
   "cell_type": "code",
   "execution_count": null,
   "id": "b0722199",
   "metadata": {},
   "outputs": [
    {
     "name": "stdout",
     "output_type": "stream",
     "text": [
      "False\n"
     ]
    }
   ],
   "source": [
    "# ==    Equal to\n",
    "\n",
    "a=10\n",
    "b=10\n",
    "\n",
    "result=(a==b)\n",
    "print(result)\n"
   ]
  },
  {
   "cell_type": "code",
   "execution_count": 16,
   "id": "ec6ba020",
   "metadata": {},
   "outputs": [
    {
     "data": {
      "text/plain": [
       "False"
      ]
     },
     "execution_count": 16,
     "metadata": {},
     "output_type": "execute_result"
    }
   ],
   "source": [
    "str1 = \"Nishant\"\n",
    "str2 = \"nishant\"       # case sensitive\n",
    "\n",
    "str1==str2"
   ]
  },
  {
   "cell_type": "code",
   "execution_count": 17,
   "id": "3b1be7c3",
   "metadata": {},
   "outputs": [
    {
     "data": {
      "text/plain": [
       "True"
      ]
     },
     "execution_count": 17,
     "metadata": {},
     "output_type": "execute_result"
    }
   ],
   "source": [
    "# !=    Not equal to \n",
    "\n",
    "str1 != str2\n"
   ]
  },
  {
   "cell_type": "code",
   "execution_count": 19,
   "id": "1ebd6b95",
   "metadata": {},
   "outputs": [
    {
     "data": {
      "text/plain": [
       "False"
      ]
     },
     "execution_count": 19,
     "metadata": {},
     "output_type": "execute_result"
    }
   ],
   "source": [
    "str3 = \"Nishant\"\n",
    "str4 = \"Nishant\"\n",
    "\n",
    "str3 != str4"
   ]
  },
  {
   "cell_type": "code",
   "execution_count": null,
   "id": "84697ea4",
   "metadata": {},
   "outputs": [
    {
     "data": {
      "text/plain": [
       "True"
      ]
     },
     "execution_count": 20,
     "metadata": {},
     "output_type": "execute_result"
    }
   ],
   "source": [
    "# >     greater than \n",
    "\n",
    "num1 = 45\n",
    "num2 = 40\n",
    "\n",
    "num1 > num2"
   ]
  },
  {
   "cell_type": "code",
   "execution_count": null,
   "id": "399a3be4",
   "metadata": {},
   "outputs": [
    {
     "data": {
      "text/plain": [
       "False"
      ]
     },
     "execution_count": 21,
     "metadata": {},
     "output_type": "execute_result"
    }
   ],
   "source": [
    "# <     less than \n",
    "\n",
    "num1 = 50\n",
    "num2 = 40\n",
    "\n",
    "num1 < num2"
   ]
  },
  {
   "cell_type": "code",
   "execution_count": null,
   "id": "27165b97",
   "metadata": {},
   "outputs": [
    {
     "data": {
      "text/plain": [
       "True"
      ]
     },
     "execution_count": 22,
     "metadata": {},
     "output_type": "execute_result"
    }
   ],
   "source": [
    "# >=    greater than equal to \n",
    "\n",
    "num1 = 45\n",
    "num2 = 45\n",
    "\n",
    "num1 >= num2"
   ]
  },
  {
   "cell_type": "code",
   "execution_count": null,
   "id": "92594397",
   "metadata": {},
   "outputs": [
    {
     "data": {
      "text/plain": [
       "True"
      ]
     },
     "execution_count": 23,
     "metadata": {},
     "output_type": "execute_result"
    }
   ],
   "source": [
    "# <=    less than equal to \n",
    "\n",
    "num1 = 45\n",
    "num2 = 45\n",
    "\n",
    "num1 <= num2"
   ]
  },
  {
   "cell_type": "markdown",
   "id": "5e3ff960",
   "metadata": {},
   "source": [
    "## Logical operators"
   ]
  },
  {
   "cell_type": "code",
   "execution_count": 27,
   "id": "4982f7b6",
   "metadata": {},
   "outputs": [
    {
     "data": {
      "text/plain": [
       "True"
      ]
     },
     "execution_count": 27,
     "metadata": {},
     "output_type": "execute_result"
    }
   ],
   "source": [
    "# AND\n",
    "\n",
    "num1 = True\n",
    "num2 = True\n",
    "\n",
    "(num1 and num2)"
   ]
  },
  {
   "cell_type": "code",
   "execution_count": 28,
   "id": "b9cb28cc",
   "metadata": {},
   "outputs": [
    {
     "data": {
      "text/plain": [
       "True"
      ]
     },
     "execution_count": 28,
     "metadata": {},
     "output_type": "execute_result"
    }
   ],
   "source": [
    "# OR \n",
    "\n",
    "num1 = True\n",
    "num2 = False\n",
    "\n",
    "(num1 or num2)"
   ]
  },
  {
   "cell_type": "code",
   "execution_count": 32,
   "id": "9d7237ac",
   "metadata": {},
   "outputs": [
    {
     "data": {
      "text/plain": [
       "True"
      ]
     },
     "execution_count": 32,
     "metadata": {},
     "output_type": "execute_result"
    }
   ],
   "source": [
    "# NOT \n",
    "\n",
    "num1 = True\n",
    "num2 = False\n",
    "\n",
    "not num1\n",
    "not num2"
   ]
  }
 ],
 "metadata": {
  "kernelspec": {
   "display_name": "Python 3",
   "language": "python",
   "name": "python3"
  },
  "language_info": {
   "codemirror_mode": {
    "name": "ipython",
    "version": 3
   },
   "file_extension": ".py",
   "mimetype": "text/x-python",
   "name": "python",
   "nbconvert_exporter": "python",
   "pygments_lexer": "ipython3",
   "version": "3.12.11"
  }
 },
 "nbformat": 4,
 "nbformat_minor": 5
}

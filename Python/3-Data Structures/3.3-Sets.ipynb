{
 "cells": [
  {
   "cell_type": "markdown",
   "id": "5ed0f6c6",
   "metadata": {},
   "source": [
    "#### Sets\n",
    "Sets are a built-in data type in Python used to store collections of unique items. They are unordered, meaning that the elements do not follow a specific order, and they do not allow duplicate elements. Sets are useful for membership tests, eliminating duplicate entries, and performing mathematical set operations like union, intersection, difference, and symmetric difference."
   ]
  },
  {
   "cell_type": "code",
   "execution_count": 102,
   "id": "f6b391f6",
   "metadata": {},
   "outputs": [
    {
     "name": "stdout",
     "output_type": "stream",
     "text": [
      "{1, 2, 3, 4, 5}\n",
      "<class 'set'>\n"
     ]
    }
   ],
   "source": [
    "# creating a set\n",
    "\n",
    "my_set = {1,2,3,4,5}\n",
    "\n",
    "print(my_set)\n",
    "print(type(my_set))"
   ]
  },
  {
   "cell_type": "code",
   "execution_count": 103,
   "id": "269d6fde",
   "metadata": {},
   "outputs": [
    {
     "data": {
      "text/plain": [
       "set"
      ]
     },
     "execution_count": 103,
     "metadata": {},
     "output_type": "execute_result"
    }
   ],
   "source": [
    "# creating an empty set\n",
    "\n",
    "empty_set = set()\n",
    "type(empty_set)\n"
   ]
  },
  {
   "cell_type": "code",
   "execution_count": 104,
   "id": "b5afa375",
   "metadata": {},
   "outputs": [
    {
     "name": "stdout",
     "output_type": "stream",
     "text": [
      "{1, 2, 3, 4, 5, 6}\n"
     ]
    }
   ],
   "source": [
    "my_set = set([1,2,3,5,6,2,1,3,4,5])       # giving list into set\n",
    "type(empty_set)\n",
    "print(my_set)       # Doesn't display duplicate elements. "
   ]
  },
  {
   "cell_type": "code",
   "execution_count": 105,
   "id": "1bf9460c",
   "metadata": {},
   "outputs": [
    {
     "data": {
      "text/plain": [
       "{1, 2, 3, 4, 5, 6}"
      ]
     },
     "execution_count": 105,
     "metadata": {},
     "output_type": "execute_result"
    }
   ],
   "source": [
    "# basic sets operations\n",
    "# adding or removing elements in the sets\n",
    "\n",
    "my_set"
   ]
  },
  {
   "cell_type": "code",
   "execution_count": 106,
   "id": "4a44346e",
   "metadata": {},
   "outputs": [
    {
     "data": {
      "text/plain": [
       "{1, 2, 3, 4, 5, 6, 50}"
      ]
     },
     "execution_count": 106,
     "metadata": {},
     "output_type": "execute_result"
    }
   ],
   "source": [
    "my_set.add(50)      # Adding elements to a set.\n",
    "my_set"
   ]
  },
  {
   "cell_type": "code",
   "execution_count": 107,
   "id": "f291b93c",
   "metadata": {},
   "outputs": [
    {
     "data": {
      "text/plain": [
       "{1, 2, 4, 5, 6, 50}"
      ]
     },
     "execution_count": 107,
     "metadata": {},
     "output_type": "execute_result"
    }
   ],
   "source": [
    "my_set.remove(3)    # Removing elements from a set \n",
    "my_set"
   ]
  },
  {
   "cell_type": "code",
   "execution_count": 108,
   "id": "2a51a5cb",
   "metadata": {},
   "outputs": [],
   "source": [
    "# my_set.remove(7)\n",
    "# my_set"
   ]
  },
  {
   "cell_type": "code",
   "execution_count": 109,
   "id": "798232af",
   "metadata": {},
   "outputs": [
    {
     "data": {
      "text/plain": [
       "{1, 2, 4, 5, 6, 50}"
      ]
     },
     "execution_count": 109,
     "metadata": {},
     "output_type": "execute_result"
    }
   ],
   "source": [
    "# Let's take a scenario in which we have to remove the element which is not present in the set but don't want any errors. \n",
    "# Then the `discard` function is used. \n",
    "\n",
    "my_set.discard(7)\n",
    "my_set"
   ]
  },
  {
   "cell_type": "code",
   "execution_count": 110,
   "id": "1e8089ab",
   "metadata": {},
   "outputs": [
    {
     "name": "stdout",
     "output_type": "stream",
     "text": [
      "1\n",
      "{2, 4, 5, 6, 50}\n"
     ]
    }
   ],
   "source": [
    "# pop method\n",
    "\n",
    "removed_element = my_set.pop()\n",
    "print(removed_element)\n",
    "print(my_set)"
   ]
  },
  {
   "cell_type": "code",
   "execution_count": 111,
   "id": "d17e0a0b",
   "metadata": {},
   "outputs": [
    {
     "name": "stdout",
     "output_type": "stream",
     "text": [
      "set()\n"
     ]
    }
   ],
   "source": [
    "# clear all the elements\n",
    "\n",
    "my_set.clear()\n",
    "print(my_set)"
   ]
  },
  {
   "cell_type": "code",
   "execution_count": 112,
   "id": "6e8ff9db",
   "metadata": {},
   "outputs": [
    {
     "name": "stdout",
     "output_type": "stream",
     "text": [
      "True\n",
      "False\n"
     ]
    }
   ],
   "source": [
    "# set membership test\n",
    "# Whether an element is a member of the set or not?\n",
    "\n",
    "my_set = {1,2,3,4,5}\n",
    "print(3 in my_set)\n",
    "print(10 in my_set)"
   ]
  },
  {
   "cell_type": "code",
   "execution_count": 113,
   "id": "74e2f378",
   "metadata": {},
   "outputs": [
    {
     "name": "stdout",
     "output_type": "stream",
     "text": [
      "{1, 2, 3, 4, 5, 6, 7, 8, 9}\n",
      "{5}\n",
      "{5}\n"
     ]
    }
   ],
   "source": [
    "# mathematical operations\n",
    "\n",
    "set1 = {1,2,3,4,5}\n",
    "set2 = {5,6,7,8,9}\n",
    "\n",
    "# union\n",
    "\n",
    "union_set = set1.union(set2)\n",
    "print(union_set)\n",
    "\n",
    "# intersection\n",
    "\n",
    "intersection_set = set1.intersection(set2)\n",
    "print(intersection_set)\n",
    "\n",
    "# intersection_update\n",
    "\n",
    "set1.intersection_update(set2)      # Finds the common elements and update them in set 1. \n",
    "print(set1)\n"
   ]
  },
  {
   "cell_type": "code",
   "execution_count": 114,
   "id": "8ce69130",
   "metadata": {},
   "outputs": [
    {
     "name": "stdout",
     "output_type": "stream",
     "text": [
      "{1, 2, 3, 4, 5, 7}\n",
      "{1, 2, 3, 4}\n"
     ]
    }
   ],
   "source": [
    "set1 = {1,2,3,7,4,5}\n",
    "set2 = {5,6,7,8,9}\n",
    "\n",
    "# difference\n",
    "\n",
    "set1.difference(set2)       # From set 1, remove the common elements of set 2. \n",
    "print(set1)\n",
    "\n",
    "set1.difference_update(set2)\n",
    "print(set1)"
   ]
  },
  {
   "cell_type": "code",
   "execution_count": 115,
   "id": "27c8ce71",
   "metadata": {},
   "outputs": [
    {
     "data": {
      "text/plain": [
       "{1, 2, 3, 4, 5, 6, 7, 8, 9}"
      ]
     },
     "execution_count": 115,
     "metadata": {},
     "output_type": "execute_result"
    }
   ],
   "source": [
    "# Symmetric difference \n",
    "\n",
    "set1.symmetric_difference(set2)     # common elements removed from both sets"
   ]
  },
  {
   "cell_type": "code",
   "execution_count": 116,
   "id": "bf877d46",
   "metadata": {},
   "outputs": [
    {
     "name": "stdout",
     "output_type": "stream",
     "text": [
      "False\n",
      "False\n"
     ]
    }
   ],
   "source": [
    "# sets methods\n",
    "\n",
    "set1 = {1,2,3}\n",
    "set2 = {3,4,5}\n",
    "\n",
    "# is subset\n",
    "print(set1.issubset(set2))\n",
    "\n",
    "# is superset\n",
    "print(set1.issuperset(set2))"
   ]
  },
  {
   "cell_type": "code",
   "execution_count": 117,
   "id": "189acf6a",
   "metadata": {},
   "outputs": [
    {
     "data": {
      "text/plain": [
       "{1, 2, 3, 4}"
      ]
     },
     "execution_count": 117,
     "metadata": {},
     "output_type": "execute_result"
    }
   ],
   "source": [
    "# Remove duplicate elements from list using set\n",
    "\n",
    "lst = [1,2,3,4,3,2]\n",
    "\n",
    "set(lst)"
   ]
  },
  {
   "cell_type": "code",
   "execution_count": 118,
   "id": "303f28a0",
   "metadata": {},
   "outputs": [
    {
     "name": "stdout",
     "output_type": "stream",
     "text": [
      "{'tutorial', 'and', 'are', 'we', 'texts', 'words', 'In', 'counting', 'unique', 'this'}\n",
      "10\n"
     ]
    }
   ],
   "source": [
    "# counting unique words and text\n",
    "\n",
    "text = \"In this tutorial unique we are counting unique words and texts \"\n",
    "words = text.split()\n",
    "\n",
    "# convert list of words to texts to get unique words\n",
    "\n",
    "unique_words = set(words)\n",
    "print(unique_words)\n",
    "print(len(unique_words))\n"
   ]
  },
  {
   "cell_type": "markdown",
   "id": "d9a8875d",
   "metadata": {},
   "source": [
    "#### Conclusion\n",
    "Sets are a powerful and flexible data type in Python that provide a way to store collections of unique elements. They support various operations such as union, intersection, difference, and symmetric difference, which are useful for mathematical computations. Understanding how to use sets and their associated methods can help you write more efficient and clean Python code, especially when dealing with unique collections and membership tests."
   ]
  }
 ],
 "metadata": {
  "kernelspec": {
   "display_name": "Python 3",
   "language": "python",
   "name": "python3"
  },
  "language_info": {
   "codemirror_mode": {
    "name": "ipython",
    "version": 3
   },
   "file_extension": ".py",
   "mimetype": "text/x-python",
   "name": "python",
   "nbconvert_exporter": "python",
   "pygments_lexer": "ipython3",
   "version": "3.12.11"
  }
 },
 "nbformat": 4,
 "nbformat_minor": 5
}

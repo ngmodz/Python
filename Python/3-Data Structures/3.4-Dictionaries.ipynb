{
 "cells": [
  {
   "cell_type": "markdown",
   "id": "a1391658",
   "metadata": {},
   "source": [
    "#### Dictionaries\n",
    "Outline:\n",
    "1. Introduction to Dictionaries\n",
    "2. Creating Dictionaries\n",
    "3. Accessing Dictionary Elements\n",
    "4. Modifying Dictionary Elements\n",
    "5. Dictionary Methods\n",
    "6. Iterating Over Dictionaries\n",
    "7. Nested Dictionaries\n",
    "8. Dictionary Comprehensions\n",
    "9. Practical Examples and Common Errors"
   ]
  },
  {
   "cell_type": "markdown",
   "id": "f3697acd",
   "metadata": {},
   "source": [
    "##### Introduction to Dictionaries\n",
    "\n",
    "Dictionaries are unordered collections of items. They store data in key-value pairs.\n",
    "Keys must be unique and immutable (e.g., strings, numbers, or tuples), while values can be of any type."
   ]
  },
  {
   "cell_type": "code",
   "execution_count": 41,
   "id": "45f9d07c",
   "metadata": {},
   "outputs": [
    {
     "data": {
      "text/plain": [
       "dict"
      ]
     },
     "execution_count": 41,
     "metadata": {},
     "output_type": "execute_result"
    }
   ],
   "source": [
    "# creating an empty dictionaries\n",
    "\n",
    "empty_dict = {}\n",
    "type(empty_dict)"
   ]
  },
  {
   "cell_type": "code",
   "execution_count": 42,
   "id": "163ca0a7",
   "metadata": {},
   "outputs": [
    {
     "data": {
      "text/plain": [
       "dict"
      ]
     },
     "execution_count": 42,
     "metadata": {},
     "output_type": "execute_result"
    }
   ],
   "source": [
    "empty_dict = dict()\n",
    "type(empty_dict)"
   ]
  },
  {
   "cell_type": "code",
   "execution_count": 43,
   "id": "99e1fea4",
   "metadata": {},
   "outputs": [
    {
     "name": "stdout",
     "output_type": "stream",
     "text": [
      "{'name': 'nishant', 'age': 32, 'grade': 'A'}\n",
      "<class 'dict'>\n"
     ]
    }
   ],
   "source": [
    "student = {\"name\":\"nishant\",\"age\":32,\"grade\":\"A\"}\n",
    "\n",
    "print(student)\n",
    "print(type(student))"
   ]
  },
  {
   "cell_type": "code",
   "execution_count": 44,
   "id": "93622588",
   "metadata": {},
   "outputs": [
    {
     "name": "stdout",
     "output_type": "stream",
     "text": [
      "{'name': 'A', 'age': 32}\n"
     ]
    }
   ],
   "source": [
    "# Single key is always used instead of multiple keys.\n",
    "\n",
    "student = {\"name\":\"nishant\",\"age\":32,\"name\":\"A\"}    # The values are going to replace the keys, not the actual keys.\n",
    "\n",
    "print(student)"
   ]
  },
  {
   "cell_type": "code",
   "execution_count": 45,
   "id": "2b1dba0a",
   "metadata": {},
   "outputs": [
    {
     "name": "stdout",
     "output_type": "stream",
     "text": [
      "{'name': 'nishant', 'age': 20, 'grade': 'A'}\n",
      "A\n",
      "20\n",
      "A\n",
      "None\n",
      "Not available\n"
     ]
    }
   ],
   "source": [
    "# Accessing dictionary elements \n",
    "\n",
    "student = {\"name\":\"nishant\",\"age\":20,\"grade\":\"A\"}\n",
    "print(student)\n",
    "\n",
    "print(student[\"grade\"])\n",
    "print(student[\"age\"])\n",
    "\n",
    "# using get() method\n",
    "\n",
    "print(student.get(\"grade\"))\n",
    "print(student.get(\"last_name\"))\n",
    "print(student.get(\"last_name\",\"Not available\"))     # Returns the default value which we provided, if the key is not found\n"
   ]
  },
  {
   "cell_type": "code",
   "execution_count": 46,
   "id": "e752d19c",
   "metadata": {},
   "outputs": [
    {
     "name": "stdout",
     "output_type": "stream",
     "text": [
      "{'name': 'nishant', 'age': 20, 'grade': 'A'}\n"
     ]
    }
   ],
   "source": [
    "# modifying dictionary elements\n",
    "# Dictionaries are mutable, so you can add, update, or delete elements\n",
    "\n",
    "print(student)"
   ]
  },
  {
   "cell_type": "code",
   "execution_count": 47,
   "id": "d9ae3f9f",
   "metadata": {},
   "outputs": [
    {
     "name": "stdout",
     "output_type": "stream",
     "text": [
      "{'name': 'nishant', 'age': 21, 'grade': 'A'}\n",
      "{'name': 'nishant', 'age': 21, 'grade': 'A', 'address': 'Delhi'}\n"
     ]
    }
   ],
   "source": [
    "student[\"age\"] = 21     # updated the value for the key\n",
    "print(student)\n",
    "student[\"address\"] = \"Delhi\"    # added the new key and value\n",
    "print(student)"
   ]
  },
  {
   "cell_type": "code",
   "execution_count": 48,
   "id": "d1d0bb3d",
   "metadata": {},
   "outputs": [
    {
     "name": "stdout",
     "output_type": "stream",
     "text": [
      "{'name': 'nishant', 'age': 21, 'address': 'Delhi'}\n"
     ]
    }
   ],
   "source": [
    "del student[\"grade\"]    # delete key and value pair\n",
    "print(student)"
   ]
  },
  {
   "cell_type": "code",
   "execution_count": 49,
   "id": "10c26fd8",
   "metadata": {},
   "outputs": [
    {
     "name": "stdout",
     "output_type": "stream",
     "text": [
      "dict_keys(['name', 'age', 'address'])\n",
      "dict_values(['nishant', 21, 'Delhi'])\n",
      "dict_items([('name', 'nishant'), ('age', 21), ('address', 'Delhi')])\n"
     ]
    }
   ],
   "source": [
    "# dictionary methods\n",
    "\n",
    "keys = student.keys()\n",
    "print(keys)\n",
    "values = student.values()\n",
    "print(values)\n",
    "\n",
    "items = student.items()     # get all the key value pairs\n",
    "print(items)"
   ]
  },
  {
   "cell_type": "code",
   "execution_count": 50,
   "id": "6e7d59ff",
   "metadata": {},
   "outputs": [
    {
     "name": "stdout",
     "output_type": "stream",
     "text": [
      "{'name': 'nishant', 'age': 21, 'address': 'Delhi'}\n",
      "{'name': 'nishant', 'age': 21, 'address': 'Delhi'}\n"
     ]
    }
   ],
   "source": [
    "# shallow copy \n",
    "\n",
    "student\n",
    "student_copy = student\n",
    "print(student)\n",
    "print(student_copy)\n"
   ]
  },
  {
   "cell_type": "code",
   "execution_count": 51,
   "id": "7c3e6cba",
   "metadata": {},
   "outputs": [
    {
     "name": "stdout",
     "output_type": "stream",
     "text": [
      "{'name': 'Nishu', 'age': 21, 'address': 'Delhi'}\n",
      "{'name': 'Nishu', 'age': 21, 'address': 'Delhi'}\n"
     ]
    }
   ],
   "source": [
    "student[\"name\"] = \"Nishu\"\n",
    "\n",
    "student_copy = student\n",
    "print(student)\n",
    "print(student_copy)"
   ]
  },
  {
   "cell_type": "code",
   "execution_count": 52,
   "id": "916d8450",
   "metadata": {},
   "outputs": [
    {
     "name": "stdout",
     "output_type": "stream",
     "text": [
      "{'name': 'Nishu', 'age': 21, 'address': 'Delhi'}\n",
      "{'name': 'Nishu', 'age': 21, 'address': 'Delhi'}\n"
     ]
    }
   ],
   "source": [
    "student_copy1 = student.copy()      # shallow copy\n",
    "\n",
    "print(student_copy1)\n",
    "print(student)"
   ]
  },
  {
   "cell_type": "code",
   "execution_count": 53,
   "id": "15d0155f",
   "metadata": {},
   "outputs": [
    {
     "name": "stdout",
     "output_type": "stream",
     "text": [
      "{'name': 'Nishu', 'age': 21, 'address': 'Delhi'}\n",
      "{'name': 'jaat', 'age': 21, 'address': 'Delhi'}\n"
     ]
    }
   ],
   "source": [
    "student[\"name\"] = \"jaat\"\n",
    "print(student_copy1)\n",
    "print(student)"
   ]
  },
  {
   "cell_type": "code",
   "execution_count": 54,
   "id": "688e3929",
   "metadata": {},
   "outputs": [
    {
     "name": "stdout",
     "output_type": "stream",
     "text": [
      "name\n",
      "age\n",
      "address\n"
     ]
    }
   ],
   "source": [
    "# iterating over dictionaries\n",
    "# you can use loops to iterate over dictionaries ,keys, values, items\n",
    "\n",
    "# iterating over keys\n",
    "for keys in student.keys():\n",
    "    print(keys)\n",
    "    "
   ]
  },
  {
   "cell_type": "code",
   "execution_count": 55,
   "id": "40509c82",
   "metadata": {},
   "outputs": [
    {
     "name": "stdout",
     "output_type": "stream",
     "text": [
      "jaat\n",
      "21\n",
      "Delhi\n"
     ]
    }
   ],
   "source": [
    "# iterating over values\n",
    "for values in student.values():\n",
    "    print(values)"
   ]
  },
  {
   "cell_type": "code",
   "execution_count": 59,
   "id": "8f6d30ab",
   "metadata": {},
   "outputs": [
    {
     "name": "stdout",
     "output_type": "stream",
     "text": [
      "name:jaat\n",
      "age:21\n",
      "address:Delhi\n"
     ]
    }
   ],
   "source": [
    "# iterating over key value pairs\n",
    "\n",
    "for key,value in student.items():\n",
    "    print(f\"{key}:{value}\")"
   ]
  },
  {
   "cell_type": "code",
   "execution_count": 60,
   "id": "9e7e1a36",
   "metadata": {},
   "outputs": [
    {
     "name": "stdout",
     "output_type": "stream",
     "text": [
      "{'student1': {'name': 'Nishu', 'age': 20}, 'student2': {'name': 'Nishant', 'age': 21}}\n"
     ]
    }
   ],
   "source": [
    "# nested dictionaries\n",
    "\n",
    "students = {\n",
    "    \"student1\" : {\"name\":\"Nishu\",\"age\":20},\n",
    "    \"student2\" : {\"name\":\"Nishant\",\"age\":21},\n",
    "    \n",
    "}\n",
    "\n",
    "print(students)"
   ]
  },
  {
   "cell_type": "code",
   "execution_count": null,
   "id": "f95602f8",
   "metadata": {},
   "outputs": [
    {
     "name": "stdout",
     "output_type": "stream",
     "text": [
      "Nishant\n",
      "21\n"
     ]
    }
   ],
   "source": [
    "# access nested dictionaries elements\n",
    "\n",
    "print(students[\"student2\"][\"name\"])     # simply call the key names\n",
    "print(students[\"student2\"][\"age\"])"
   ]
  },
  {
   "cell_type": "code",
   "execution_count": 62,
   "id": "83a9e6ef",
   "metadata": {},
   "outputs": [
    {
     "data": {
      "text/plain": [
       "dict_items([('student1', {'name': 'Nishu', 'age': 20}), ('student2', {'name': 'Nishant', 'age': 21})])"
      ]
     },
     "execution_count": 62,
     "metadata": {},
     "output_type": "execute_result"
    }
   ],
   "source": [
    "students.items()"
   ]
  },
  {
   "cell_type": "code",
   "execution_count": 67,
   "metadata": {},
   "outputs": [
    {
     "name": "stdout",
     "output_type": "stream",
     "text": [
      "student1:{'name': 'Nishu', 'age': 20}\n",
      "name:Nishu\n",
      "age:20\n",
      "student2:{'name': 'Nishant', 'age': 21}\n",
      "name:Nishant\n",
      "age:21\n"
     ]
    }
   ],
   "source": [
    "# iterating over nested dictionaries\n",
    "\n",
    "for student_id,student_info in students.items():\n",
    "    print(f\"{student_id}:{student_info}\")\n",
    "    for key,value in student_info.items():\n",
    "        print(f\"{key}:{value}\")"
   ]
  },
  {
   "cell_type": "code",
   "execution_count": 68,
   "id": "55396186",
   "metadata": {},
   "outputs": [
    {
     "name": "stdout",
     "output_type": "stream",
     "text": [
      "{0: 0, 1: 1, 2: 4, 3: 9, 4: 16}\n"
     ]
    }
   ],
   "source": [
    "# dictionary comprehension\n",
    "\n",
    "# What is the square of a number between 1 and 10? \n",
    "squares = {x : x**2 for x in range(5)}\n",
    "print(squares)"
   ]
  },
  {
   "cell_type": "code",
   "execution_count": 70,
   "id": "dfb3da33",
   "metadata": {},
   "outputs": [
    {
     "name": "stdout",
     "output_type": "stream",
     "text": [
      "{0: 0, 2: 4, 4: 16, 6: 36, 8: 64}\n"
     ]
    }
   ],
   "source": [
    "# conditional dictionary comprehension\n",
    "\n",
    "# print only even numbers squares between 1 to 10\n",
    "squares = {x : x**2 for x in range(10) if x%2==0}\n",
    "print(squares)"
   ]
  },
  {
   "cell_type": "code",
   "execution_count": 71,
   "id": "07ca48f0",
   "metadata": {},
   "outputs": [
    {
     "name": "stdout",
     "output_type": "stream",
     "text": [
      "{1: 1, 2: 1, 3: 5, 4: 3, 5: 2, 6: 1}\n"
     ]
    }
   ],
   "source": [
    "# practical example\n",
    "\n",
    "# use a dictionary to count the frequency of elements in a list\n",
    "\n",
    "numbers = [1,2,3,3,3,4,5,5,3,4,4,6,3]\n",
    "\n",
    "frequency = {}\n",
    "\n",
    "for num in numbers:\n",
    "    if num in frequency:\n",
    "        frequency[num]+=1\n",
    "    else:\n",
    "        frequency[num] = 1\n",
    "print(frequency)"
   ]
  },
  {
   "cell_type": "code",
   "execution_count": 73,
   "id": "a72b0196",
   "metadata": {},
   "outputs": [
    {
     "name": "stdout",
     "output_type": "stream",
     "text": [
      "{'a': 1, 'b': 3, 'c': 4}\n"
     ]
    }
   ],
   "source": [
    "# merge 2 dictionaries in 1\n",
    "\n",
    "dict1 = {\"a\":1,\"b\":2}\n",
    "dict2 = {\"b\":3,\"c\":4}\n",
    "\n",
    "merge_dict = {**dict1, **dict2}\n",
    "\n",
    "print(merge_dict)"
   ]
  },
  {
   "cell_type": "markdown",
   "id": "5992424b",
   "metadata": {},
   "source": [
    "#### Conclusion\n",
    "Dictionaries are powerful tools in Python for managing key-value pairs. They are used in a variety of real-world scenarios, such as counting word frequency, grouping data, storing configuration settings, managing phonebooks, tracking inventory, and caching results. Understanding how to leverage dictionaries effectively can greatly enhance the efficiency and readability of your code."
   ]
  }
 ],
 "metadata": {
  "kernelspec": {
   "display_name": "Python 3",
   "language": "python",
   "name": "python3"
  },
  "language_info": {
   "codemirror_mode": {
    "name": "ipython",
    "version": 3
   },
   "file_extension": ".py",
   "mimetype": "text/x-python",
   "name": "python",
   "nbconvert_exporter": "python",
   "pygments_lexer": "ipython3",
   "version": "3.12.11"
  }
 },
 "nbformat": 4,
 "nbformat_minor": 5
}

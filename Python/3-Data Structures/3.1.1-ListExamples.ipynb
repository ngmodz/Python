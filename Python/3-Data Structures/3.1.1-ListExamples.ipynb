{
 "cells": [
  {
   "cell_type": "markdown",
   "id": "ee30f147",
   "metadata": {},
   "source": [
    "#### Real-World Examples Using Lists in Python\n",
    "Lists are one of the most commonly used data structures in Python, thanks to their versatility and ease of use. Here are several practical examples that illustrate their use in real-world scenarios"
   ]
  },
  {
   "cell_type": "markdown",
   "id": "4f9ca833",
   "metadata": {},
   "source": [
    "##### Example 1. Manage A To Do List\n",
    "- Create a To Do List To Keep Track OF Tasks"
   ]
  },
  {
   "cell_type": "code",
   "execution_count": 13,
   "id": "cb7fdae4",
   "metadata": {},
   "outputs": [
    {
     "name": "stdout",
     "output_type": "stream",
     "text": [
      "Hey, don't forget to go for run\n",
      "To do list remaining\n",
      "-buy groceries\n",
      "-clean windows\n",
      "-buy biscuits\n",
      "-Go for a run\n"
     ]
    }
   ],
   "source": [
    "to_do_list = [\"buy groceries\",\"clean windows\",\"buy biscuits\"]\n",
    "\n",
    "# Adding the tasks\n",
    "to_do_list.append(\"Eat food\")\n",
    "to_do_list.append(\"Go for a run\")\n",
    "\n",
    "# Removing the tasks\n",
    "\n",
    "to_do_list.remove(\"Eat food\")\n",
    "\n",
    "# Checking if the task is in the list\n",
    "\n",
    "if \"Go for a run\" in to_do_list:\n",
    "    print(\"Hey, don't forget to go for run\")\n",
    "    \n",
    "print(\"To do list remaining\")\n",
    "\n",
    "for task in to_do_list:\n",
    "    print(f\"-{task}\")"
   ]
  },
  {
   "cell_type": "markdown",
   "id": "bf12a8f0",
   "metadata": {},
   "source": [
    "##### Example 2: Organizing Student Grades\n",
    "- Create a list to store and calculate average grades for students"
   ]
  },
  {
   "cell_type": "code",
   "execution_count": 14,
   "id": "88a0f3f6",
   "metadata": {},
   "outputs": [
    {
     "name": "stdout",
     "output_type": "stream",
     "text": [
      "Average grades :  80.16666666666667\n",
      "Highest grades : 97\n",
      "Lowest grades : 65\n"
     ]
    }
   ],
   "source": [
    "# make a list of grades\n",
    "\n",
    "grades = [68,89,97,65,90]\n",
    "\n",
    "# adding new grades in the list\n",
    "\n",
    "grades.append(72)\n",
    "\n",
    "# calculating average grades\n",
    "\n",
    "avg_grades = sum(grades) / len(grades)\n",
    "print(\"Average grades : \", avg_grades)\n",
    "\n",
    "# finding the highest and lowest grades\n",
    "\n",
    "highest_grades = max(grades)\n",
    "lowest_grades = min(grades)\n",
    "\n",
    "print(f\"Highest grades : {highest_grades}\")\n",
    "print(f\"Lowest grades : {lowest_grades}\")"
   ]
  },
  {
   "cell_type": "markdown",
   "id": "bbc029d1",
   "metadata": {},
   "source": [
    "##### Example 3: Managing An Inventory\n",
    "- Use a list to manage inventory items in a store"
   ]
  },
  {
   "cell_type": "code",
   "execution_count": 15,
   "id": "e3fb461f",
   "metadata": {},
   "outputs": [
    {
     "name": "stdout",
     "output_type": "stream",
     "text": [
      "mango is in stock\n",
      "Inventory:------\n",
      "grapes\n",
      "orange\n",
      "banana\n",
      "apple\n",
      "mango\n",
      "watermelon\n"
     ]
    }
   ],
   "source": [
    "# creating an invertory\n",
    "\n",
    "inventory = [\"grapes\",\"orange\",\"banana\",\"apple\",\"mango\"]\n",
    "\n",
    "# adding item into inventory\n",
    "\n",
    "inventory.append(\"watermelon\")\n",
    "\n",
    "# checking if an item is in stock or not\n",
    "\n",
    "item = input(\"Enter the item\")\n",
    "if(item in inventory):\n",
    "    print(f\"{item} is in stock\")\n",
    "else:\n",
    "    print(f\"{item} is not in stock\")\n",
    "    \n",
    "# printing the inventory\n",
    "\n",
    "print(\"Inventory:------\")\n",
    "for item in inventory:\n",
    "    print(f\"{item}\")"
   ]
  },
  {
   "cell_type": "markdown",
   "id": "8821393b",
   "metadata": {},
   "source": [
    "##### Example 4:Collecting User Feedback\n",
    "- Use a list to collect and analyze user feedback."
   ]
  },
  {
   "cell_type": "code",
   "execution_count": 16,
   "id": "428042c2",
   "metadata": {},
   "outputs": [
    {
     "name": "stdout",
     "output_type": "stream",
     "text": [
      "Positive feedback count : 2\n",
      "good service\n",
      "bad service\n",
      "better bro\n",
      "poor service\n",
      "excellent bro\n",
      "very bad\n",
      "nice bro\n"
     ]
    }
   ],
   "source": [
    "# collecting feedbacks\n",
    "\n",
    "feedback = [\"good service\",\"bad service\",\"better bro\",\"poor service\",\"excellent bro\",\"very bad\"]\n",
    "\n",
    "# adding feedback\n",
    "\n",
    "feedback.append(\"nice bro\")\n",
    "\n",
    "# analyzing feedback\n",
    "\n",
    "positive_feedback_count = sum(1 for comment in feedback if \"great\" in comment.lower() or \"good\" in comment.lower() or \"nice\" in comment.lower())\n",
    "print(f\"Positive feedback count : {positive_feedback_count}\")\n",
    "\n",
    "# all feedbacks\n",
    "\n",
    "for comment in feedback:\n",
    "    print(comment)"
   ]
  }
 ],
 "metadata": {
  "kernelspec": {
   "display_name": "Python 3",
   "language": "python",
   "name": "python3"
  },
  "language_info": {
   "codemirror_mode": {
    "name": "ipython",
    "version": 3
   },
   "file_extension": ".py",
   "mimetype": "text/x-python",
   "name": "python",
   "nbconvert_exporter": "python",
   "pygments_lexer": "ipython3",
   "version": "3.12.11"
  }
 },
 "nbformat": 4,
 "nbformat_minor": 5
}

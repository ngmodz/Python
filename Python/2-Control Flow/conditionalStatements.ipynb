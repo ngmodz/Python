{
 "cells": [
  {
   "cell_type": "markdown",
   "id": "146fe787",
   "metadata": {},
   "source": [
    "#### Conditional Statements (if, elif, else)\n",
    "Outline:\n",
    "1. Introduction to Conditional Statements\n",
    "2. if Statement\n",
    "3. else Statement\n",
    "4. elif Statement\n",
    "5. Nested Conditional Statements\n",
    "6. Practical Examples\n",
    "7. Common Errors and Best Practices"
   ]
  },
  {
   "cell_type": "code",
   "execution_count": 5,
   "id": "c50c6369",
   "metadata": {},
   "outputs": [
    {
     "name": "stdout",
     "output_type": "stream",
     "text": [
      "Allowed to vote in the elections\n"
     ]
    }
   ],
   "source": [
    "# if statement\n",
    "\n",
    "age = 20\n",
    "\n",
    "if(age>=18):\n",
    "    print(\"Allowed to vote in the elections\")"
   ]
  },
  {
   "cell_type": "code",
   "execution_count": 7,
   "id": "51b7ae9f",
   "metadata": {},
   "outputs": [
    {
     "name": "stdout",
     "output_type": "stream",
     "text": [
      "Not allowed\n"
     ]
    }
   ],
   "source": [
    "# else \n",
    "# The else statement executes a block of code if the condition inside the if block is false. \n",
    "\n",
    "\n",
    "age = 16\n",
    "\n",
    "if(age>=18):\n",
    "    print(\"Allowed to vote in the elections\")\n",
    "else:\n",
    "    print(\"Not allowed\")"
   ]
  },
  {
   "cell_type": "code",
   "execution_count": 11,
   "id": "bfeb7892",
   "metadata": {},
   "outputs": [
    {
     "name": "stdout",
     "output_type": "stream",
     "text": [
      "Adult\n"
     ]
    }
   ],
   "source": [
    "# elif statement \n",
    "# Allows you to check multiple conditions, stands for \"else if\".\n",
    "\n",
    "age = 20\n",
    "\n",
    "if(age<13):\n",
    "    print(\"Child\")\n",
    "elif(age<18):\n",
    "    print(\"Teenager\")\n",
    "else:\n",
    "    print(\"Adult\")"
   ]
  },
  {
   "cell_type": "code",
   "execution_count": 21,
   "id": "2d7a9f90",
   "metadata": {},
   "outputs": [
    {
     "name": "stdout",
     "output_type": "stream",
     "text": [
      "Number is odd and negative\n"
     ]
    }
   ],
   "source": [
    "# nested conditional statements \n",
    "# We can create if, elif and else condition inside another if, elif and else condition to create a nested statement. \n",
    "\n",
    "\n",
    "#  Find a number is odd,even,zero or negative. \n",
    "\n",
    "num = int(input(\"Enter a number : \"))\n",
    "\n",
    "if(num > 0):\n",
    "    if(num % 2 == 0):\n",
    "        print(\"Number is even and positive\")\n",
    "    else: \n",
    "        print(\"Number is odd and positive\")\n",
    "elif(num<0):\n",
    "    if(num % 2 == 0):\n",
    "        print(\"Number is even and negative\")\n",
    "    else:\n",
    "        print(\"Number is odd and negative\")\n",
    "else:\n",
    "    print(\"Number is zero\")"
   ]
  },
  {
   "cell_type": "code",
   "execution_count": 42,
   "id": "0b30fb38",
   "metadata": {},
   "outputs": [
    {
     "name": "stdout",
     "output_type": "stream",
     "text": [
      "Not a Leap year\n"
     ]
    }
   ],
   "source": [
    "# Practical Example \n",
    "# Determine if the year is a leap year or not using nested if\n",
    "\n",
    "year = int(input(\"Enter the year : \"))\n",
    "\n",
    "if(year % 4 == 0):\n",
    "    if(year % 100 == 0):\n",
    "        if(year % 400 == 0):\n",
    "            print(\"Leap year\")\n",
    "        else:\n",
    "            print(\"Not a Leap year\")\n",
    "    else:\n",
    "        print(\"Leap year\")\n",
    "else:\n",
    "    print(\"Not a Leap year\")"
   ]
  },
  {
   "cell_type": "code",
   "execution_count": 44,
   "id": "463ab743",
   "metadata": {},
   "outputs": [
    {
     "name": "stdout",
     "output_type": "stream",
     "text": [
      "4.0  raise to power  3.0  is :  64.0\n"
     ]
    }
   ],
   "source": [
    "# Simple calculator\n",
    "\n",
    "a = float(input(\"Enter first number : \"))\n",
    "b = float(input(\"Enter second number : \"))\n",
    "op = input(\"Enter the operation : (+,-,*,%,/,//,**)\")\n",
    "\n",
    "if(op == '+'):\n",
    "    print(\"Addiiton is : \", a+b)\n",
    "elif(op == '-'):\n",
    "    print(\"Subraction is : \", a-b)\n",
    "elif(op == '*'):\n",
    "    print(\"Multiplication is : \", a*b)\n",
    "elif(op == '%'):\n",
    "    print(\"Remainder is : \", a%b)\n",
    "elif(op == \"/\"):\n",
    "    print(\"Quotient is : \", a/b)\n",
    "elif(op == \"//\"):\n",
    "    print(\"Floor division is : \", a//b)\n",
    "elif(op == \"**\"):\n",
    "    print(a, \" raise to power \", b, \" is : \", a**b)\n",
    "else:\n",
    "    print(\"Invalid operation, try again.\")"
   ]
  },
  {
   "cell_type": "code",
   "execution_count": 51,
   "id": "1eeae349",
   "metadata": {},
   "outputs": [
    {
     "name": "stdout",
     "output_type": "stream",
     "text": [
      "Invalid age.\n"
     ]
    }
   ],
   "source": [
    "# determine the entry fee based on the age and student status\n",
    "\n",
    "age = int(input(\"Enter your age : \"))\n",
    "is_Student = input(\"Are you a student? (yes/no) :\")\n",
    "\n",
    "if(age<10 and age>0):\n",
    "    if(is_Student == 'yes'):\n",
    "        print(\"10rs.\")\n",
    "    else:\n",
    "        print(\"15rs.\")\n",
    "elif(age>10 and age<18):\n",
    "    if(is_Student == 'yes'):\n",
    "        print(\"20rs.\")\n",
    "    else:\n",
    "        print(\"30rs.\")\n",
    "elif(age==18):\n",
    "    if(is_Student == 'yes'):\n",
    "        print(\"40rs.\")\n",
    "    else:\n",
    "        print(\"45rs.\")\n",
    "elif(age>18):\n",
    "    print(\"50rs.\")\n",
    "else:\n",
    "    print(\"Invalid age.\")"
   ]
  }
 ],
 "metadata": {
  "kernelspec": {
   "display_name": "Python 3",
   "language": "python",
   "name": "python3"
  },
  "language_info": {
   "codemirror_mode": {
    "name": "ipython",
    "version": 3
   },
   "file_extension": ".py",
   "mimetype": "text/x-python",
   "name": "python",
   "nbconvert_exporter": "python",
   "pygments_lexer": "ipython3",
   "version": "3.12.11"
  }
 },
 "nbformat": 4,
 "nbformat_minor": 5
}

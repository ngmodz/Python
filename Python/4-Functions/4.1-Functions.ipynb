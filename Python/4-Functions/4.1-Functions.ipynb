{
 "cells": [
  {
   "cell_type": "markdown",
   "id": "2d3a71b9",
   "metadata": {},
   "source": [
    "#### Functions in Python\n",
    "Outline:\n",
    "1. Introduction to Functions\n",
    "2. Defining Functions\n",
    "3. Calling Functions\n",
    "4. Function Parameters\n",
    "5. Default Parameters\n",
    "6. Variable-Length Arguments\n",
    "7. Return Statement"
   ]
  },
  {
   "cell_type": "markdown",
   "id": "614553d5",
   "metadata": {},
   "source": [
    "##### Introduction to Functions\n",
    "Definition:\n",
    "\n",
    "A function is a block of code that performs a specific task.\n",
    "Functions help in organizing code, reusing code, and improving readability.\n",
    "\n"
   ]
  },
  {
   "cell_type": "code",
   "execution_count": null,
   "id": "fad9dd5c",
   "metadata": {},
   "outputs": [],
   "source": [
    "# syntax of function\n",
    "\n",
    "def function_name(parameters):\n",
    "    '''Docstring'''\n",
    "    # function body\n",
    "    return expression"
   ]
  },
  {
   "cell_type": "code",
   "execution_count": 1,
   "id": "fd7758ac",
   "metadata": {},
   "outputs": [
    {
     "name": "stdout",
     "output_type": "stream",
     "text": [
      "Even\n"
     ]
    }
   ],
   "source": [
    "# why functions?\n",
    "\n",
    "num = 24\n",
    "if(num%2==0):\n",
    "    print(\"Even\")\n",
    "else:\n",
    "    print(\"Odd\")"
   ]
  },
  {
   "cell_type": "code",
   "execution_count": null,
   "id": "2cf25bbd",
   "metadata": {},
   "outputs": [],
   "source": [
    "def even_or_odd(num):           #  creating a function\n",
    "    \"\"\"This function finds even or odd\"\"\"\n",
    "    if(num%2==0):\n",
    "        print(\"Even\")\n",
    "    else:\n",
    "        print(\"Odd\")"
   ]
  },
  {
   "cell_type": "code",
   "execution_count": 5,
   "id": "6b2d64eb",
   "metadata": {},
   "outputs": [
    {
     "name": "stdout",
     "output_type": "stream",
     "text": [
      "Even\n"
     ]
    }
   ],
   "source": [
    "even_or_odd(40)                 # calling the function"
   ]
  },
  {
   "cell_type": "code",
   "execution_count": 6,
   "id": "f080972d",
   "metadata": {},
   "outputs": [],
   "source": [
    "# functions with multiple parameters\n",
    "\n",
    "def add(a,b):\n",
    "    \"\"\"Adds two numbers\"\"\"\n",
    "    # c = a+b\n",
    "    # return c\n",
    "    \n",
    "    return a+b"
   ]
  },
  {
   "cell_type": "code",
   "execution_count": 7,
   "id": "d7824496",
   "metadata": {},
   "outputs": [
    {
     "data": {
      "text/plain": [
       "7"
      ]
     },
     "execution_count": 7,
     "metadata": {},
     "output_type": "execute_result"
    }
   ],
   "source": [
    "add(3,4)"
   ]
  },
  {
   "cell_type": "code",
   "execution_count": null,
   "id": "a799c2b6",
   "metadata": {},
   "outputs": [
    {
     "name": "stdout",
     "output_type": "stream",
     "text": [
      "Ram ram Guest\n",
      "Ram ram Nishu\n"
     ]
    }
   ],
   "source": [
    "# default parameters\n",
    "\n",
    "def greet(name = \"Guest\"):\n",
    "    print(f\"Ram ram {name}\")\n",
    "    \n",
    "    \n",
    "greet() \n",
    "greet(\"Nishu\")"
   ]
  },
  {
   "cell_type": "code",
   "execution_count": 15,
   "id": "82715b81",
   "metadata": {},
   "outputs": [],
   "source": [
    "# variable length arguments\n",
    "# positional and keyword arguments\n",
    "\n",
    "\n",
    "# positional arguments\n",
    "def print_numbers(*args):\n",
    "    for number in args:\n",
    "        print(number)"
   ]
  },
  {
   "cell_type": "code",
   "execution_count": 16,
   "id": "287b6441",
   "metadata": {},
   "outputs": [
    {
     "name": "stdout",
     "output_type": "stream",
     "text": [
      "1\n",
      "2\n",
      "3\n",
      "4\n",
      "5\n",
      "6\n",
      "7\n",
      "Nishu\n"
     ]
    }
   ],
   "source": [
    "print_numbers(1,2,3,4,5,6,7,\"Nishu\")"
   ]
  },
  {
   "cell_type": "code",
   "execution_count": 21,
   "id": "fe2a895f",
   "metadata": {},
   "outputs": [],
   "source": [
    "# keywords arguments\n",
    "\n",
    "def print_details(**kwargs):        # all the parameters should be in key value pairs\n",
    "    for key,value in kwargs.items():\n",
    "        print(f\"{key} : {value}\")"
   ]
  },
  {
   "cell_type": "code",
   "execution_count": 22,
   "id": "dc074184",
   "metadata": {},
   "outputs": [
    {
     "name": "stdout",
     "output_type": "stream",
     "text": [
      "name : Nishant\n",
      "age : 20\n"
     ]
    }
   ],
   "source": [
    "print_details(name = \"Nishant\", age = \"20\")"
   ]
  },
  {
   "cell_type": "code",
   "execution_count": 28,
   "id": "275bd7dd",
   "metadata": {},
   "outputs": [],
   "source": [
    "def print_details(*args,**kwargs):      # combining both positional and keyword arguments\n",
    "    for val in args:\n",
    "        print(f\"Positional argument : {val}\")\n",
    "    for key,value in kwargs.items():\n",
    "        print(f\"{key} : {value}\")"
   ]
  },
  {
   "cell_type": "code",
   "execution_count": 29,
   "id": "6720d63c",
   "metadata": {},
   "outputs": [
    {
     "name": "stdout",
     "output_type": "stream",
     "text": [
      "Positional argument : 1\n",
      "Positional argument : 2\n",
      "Positional argument : 3\n",
      "Positional argument : 4\n",
      "Positional argument : 5\n",
      "name : Nishant\n",
      "age : 20\n"
     ]
    }
   ],
   "source": [
    "print_details(1,2,3,4,5,name = \"Nishant\", age = \"20\")"
   ]
  },
  {
   "cell_type": "code",
   "execution_count": 30,
   "id": "ac7316c1",
   "metadata": {},
   "outputs": [
    {
     "data": {
      "text/plain": [
       "20"
      ]
     },
     "execution_count": 30,
     "metadata": {},
     "output_type": "execute_result"
    }
   ],
   "source": [
    "# return statements\n",
    "\n",
    "def multiply(a,b):\n",
    "    return a*b\n",
    "\n",
    "multiply(4,5)"
   ]
  },
  {
   "cell_type": "code",
   "execution_count": 32,
   "id": "427c6e56",
   "metadata": {},
   "outputs": [
    {
     "data": {
      "text/plain": [
       "(20, 4)"
      ]
     },
     "execution_count": 32,
     "metadata": {},
     "output_type": "execute_result"
    }
   ],
   "source": [
    "# return multiple parameters\n",
    "\n",
    "def multiply(a,b):\n",
    "    return a*b,a\n",
    "\n",
    "multiply(4,5)"
   ]
  }
 ],
 "metadata": {
  "kernelspec": {
   "display_name": "Python 3",
   "language": "python",
   "name": "python3"
  },
  "language_info": {
   "codemirror_mode": {
    "name": "ipython",
    "version": 3
   },
   "file_extension": ".py",
   "mimetype": "text/x-python",
   "name": "python",
   "nbconvert_exporter": "python",
   "pygments_lexer": "ipython3",
   "version": "3.12.11"
  }
 },
 "nbformat": 4,
 "nbformat_minor": 5
}

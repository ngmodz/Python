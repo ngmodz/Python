{
 "cells": [
  {
   "cell_type": "markdown",
   "id": "9a0c8e7b",
   "metadata": {},
   "source": [
    "#### Example 1: Temperature Conversion"
   ]
  },
  {
   "cell_type": "code",
   "execution_count": 6,
   "id": "824e2c7a",
   "metadata": {},
   "outputs": [
    {
     "name": "stdout",
     "output_type": "stream",
     "text": [
      "77.0\n",
      "36.666666666666664\n"
     ]
    }
   ],
   "source": [
    "def convert_temp(temp,unit):\n",
    "    \"\"\" This function convert temperature between fehrenheit and celsius\"\"\"\n",
    "    if unit=='C':\n",
    "        return temp * 9/5 + 32      # celsius to fehrenheit\n",
    "    elif unit=='F':\n",
    "        return (temp-32) * 5/9      # fehrenheit to celsius\n",
    "    else:\n",
    "        return None\n",
    "    \n",
    "    \n",
    "print(convert_temp(25,'C'))\n",
    "print(convert_temp(98,'F'))"
   ]
  },
  {
   "cell_type": "markdown",
   "id": "5635b92a",
   "metadata": {},
   "source": [
    "##### Example 2: Password Strength Checker"
   ]
  },
  {
   "cell_type": "code",
   "execution_count": 7,
   "id": "15562e6d",
   "metadata": {},
   "outputs": [
    {
     "name": "stdout",
     "output_type": "stream",
     "text": [
      "Hey, it is not a strong password\n"
     ]
    },
    {
     "data": {
      "text/plain": [
       "False"
      ]
     },
     "execution_count": 7,
     "metadata": {},
     "output_type": "execute_result"
    }
   ],
   "source": [
    "def is_strong_password(password):\n",
    "    \"\"\" This function checks if the password is strong or not \"\"\"\n",
    "    if len(password)<8:\n",
    "        print(\"Hey, it is not a strong password\")\n",
    "    if not any(char.isdigit() for char in password):\n",
    "        return False\n",
    "    if not any(char.islower() for char in password):\n",
    "        return False\n",
    "    if not any(char.isupper() for char in password):\n",
    "        return False\n",
    "    if not any(char in '!@#$%^&*()' for char in password):\n",
    "        return False\n",
    "    return True\n",
    "\n",
    "\n",
    "is_strong_password(input(\"Enter a password : \"))\n",
    "    "
   ]
  },
  {
   "cell_type": "markdown",
   "id": "4489d55f",
   "metadata": {},
   "source": [
    "##### Example 3: Calculate the Total Cost Of Items In a Shopping Cart"
   ]
  },
  {
   "cell_type": "code",
   "execution_count": 11,
   "id": "496b3928",
   "metadata": {},
   "outputs": [
    {
     "name": "stdout",
     "output_type": "stream",
     "text": [
      "15.899999999999999\n"
     ]
    }
   ],
   "source": [
    "def calculate_items_cart(cart):\n",
    "    total_cost = 0\n",
    "    for item in cart:\n",
    "        total_cost += item['price'] *item['quantity']\n",
    "        return total_cost\n",
    "    \n",
    "# example cart data\n",
    "cart = [\n",
    "    {'name':'apple','price':5.3,\"quantity\":3},\n",
    "    {'name':'cherry','price':1.2,\"quantity\":6},\n",
    "    {'name':'mango','price':4.1,\"quantity\":4},\n",
    "]\n",
    "\n",
    "total_cost = calculate_items_cart(cart)\n",
    "print(total_cost)"
   ]
  },
  {
   "cell_type": "markdown",
   "id": "408ed015",
   "metadata": {},
   "source": [
    "##### Example 4: Check IF a String Is Palindrome"
   ]
  },
  {
   "cell_type": "code",
   "execution_count": 13,
   "id": "911d6092",
   "metadata": {},
   "outputs": [
    {
     "name": "stdout",
     "output_type": "stream",
     "text": [
      "True\n",
      "False\n"
     ]
    }
   ],
   "source": [
    "def is_palindrome(s):\n",
    "    s = s.lower().replace(\" \",\"\")\n",
    "    return s==s[::-1]\n",
    "\n",
    "print(is_palindrome(\"a man a plan a canal panama\"))\n",
    "print(is_palindrome(\"Hello\"))"
   ]
  },
  {
   "cell_type": "markdown",
   "id": "d9df299f",
   "metadata": {},
   "source": [
    "##### Example 5: Calculate the factorials of a number using recursion\n"
   ]
  },
  {
   "cell_type": "code",
   "execution_count": 16,
   "id": "641b1973",
   "metadata": {},
   "outputs": [
    {
     "data": {
      "text/plain": [
       "720"
      ]
     },
     "execution_count": 16,
     "metadata": {},
     "output_type": "execute_result"
    }
   ],
   "source": [
    "def factorial(n):\n",
    "    if(n==0):\n",
    "        return 1\n",
    "    else:\n",
    "        return n * factorial(n-1)\n",
    "    \n",
    "factorial(6)"
   ]
  },
  {
   "cell_type": "markdown",
   "id": "81505a67",
   "metadata": {},
   "source": [
    "##### Example 6: A Function To Read A File and count the frequency of each word\n"
   ]
  },
  {
   "cell_type": "code",
   "execution_count": 23,
   "id": "f8f61027",
   "metadata": {},
   "outputs": [
    {
     "name": "stdout",
     "output_type": "stream",
     "text": [
      "{'hello': 1, 'nishu': 2, 'how': 1, 'are': 1, 'you': 1}\n"
     ]
    }
   ],
   "source": [
    "def count_words_frequency(file_path):\n",
    "    word_count = {}\n",
    "    with open(file_path, 'r') as file:\n",
    "        for line in file:\n",
    "            words=line.split()\n",
    "            for word in words:\n",
    "                word = word.lower().strip('.,!@#$%^&*()/')\n",
    "                word_count[word] = word_count.get(word,0)+1\n",
    "    return word_count\n",
    "\n",
    "filepath = 'sample.txt'\n",
    "word_frequency = count_words_frequency(filepath)\n",
    "print(word_frequency)\n"
   ]
  },
  {
   "cell_type": "markdown",
   "id": "03ae4fa0",
   "metadata": {},
   "source": [
    "##### Example 7: Validate Email Address"
   ]
  }
 ],
 "metadata": {
  "kernelspec": {
   "display_name": "Python 3",
   "language": "python",
   "name": "python3"
  },
  "language_info": {
   "codemirror_mode": {
    "name": "ipython",
    "version": 3
   },
   "file_extension": ".py",
   "mimetype": "text/x-python",
   "name": "python",
   "nbconvert_exporter": "python",
   "pygments_lexer": "ipython3",
   "version": "3.12.11"
  }
 },
 "nbformat": 4,
 "nbformat_minor": 5
}

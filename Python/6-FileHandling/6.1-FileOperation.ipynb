{
 "cells": [
  {
   "cell_type": "markdown",
   "id": "cda466a0",
   "metadata": {},
   "source": [
    "#### File Operation- Read And Write Files\n",
    "\n",
    "File handling is a crucial part of any programming language. Python provides built-in functions and methods to read from and write to files, both text and binary. This lesson will cover the basics of file handling, including reading and writing text files and binary files."
   ]
  },
  {
   "cell_type": "code",
   "execution_count": 33,
   "id": "61275312",
   "metadata": {},
   "outputs": [
    {
     "name": "stdout",
     "output_type": "stream",
     "text": [
      "Hello world!!\n",
      "Ram ram\n",
      "\n"
     ]
    }
   ],
   "source": [
    "# read a whole file\n",
    "\n",
    "with open('example.txt','r') as file:\n",
    "    content = file.read()\n",
    "    print(content)"
   ]
  },
  {
   "cell_type": "code",
   "execution_count": 34,
   "id": "9cc7da6f",
   "metadata": {},
   "outputs": [
    {
     "name": "stdout",
     "output_type": "stream",
     "text": [
      "Hello world!!\n",
      "Ram ram\n"
     ]
    }
   ],
   "source": [
    "# read a file line by line\n",
    "\n",
    "with open('example.txt','r') as file:\n",
    "    for line in file:\n",
    "        print(line.strip())         # .strip() operation removes the newline character"
   ]
  },
  {
   "cell_type": "code",
   "execution_count": 35,
   "id": "cef9a445",
   "metadata": {},
   "outputs": [],
   "source": [
    "# writing a file(overwriting)\n",
    "\n",
    "with open('example.txt','w') as file:\n",
    "    file.write(\"Hello world\\n\")\n",
    "    file.write(\"This is a new line\\n\")\n",
    "    \n"
   ]
  },
  {
   "cell_type": "code",
   "execution_count": 36,
   "id": "4164356e",
   "metadata": {},
   "outputs": [],
   "source": [
    "# writing a file without overwriting\n",
    "\n",
    "with open('example.txt','a') as file:       # append operation\n",
    "    file.write(\"Hello guys, how are you? My name is Nishant, and what's your name? \")"
   ]
  },
  {
   "cell_type": "code",
   "execution_count": 37,
   "id": "79a28959",
   "metadata": {},
   "outputs": [],
   "source": [
    "# writing a list of lines to a file\n",
    "\n",
    "lines = [\"\\nthis is my first line\\n\",\"second line\\n\",\"third line\\n\"]\n",
    "\n",
    "with open('example.txt','a') as file:       # using writelines() function to write multiple lines\n",
    "    file.writelines(lines)"
   ]
  },
  {
   "cell_type": "code",
   "execution_count": 38,
   "id": "a25ed7e3",
   "metadata": {},
   "outputs": [],
   "source": [
    "# binary files \n",
    "\n",
    "data = b'\\x00\\x01\\x02\\x03\\x04'\n",
    "\n",
    "with open('example.bin','wb') as file:      # using wb operation for writing in the binary files\n",
    "    file.write(data)"
   ]
  },
  {
   "cell_type": "code",
   "execution_count": 39,
   "id": "b8743ace",
   "metadata": {},
   "outputs": [
    {
     "name": "stdout",
     "output_type": "stream",
     "text": [
      "b'\\x00\\x01\\x02\\x03\\x04'\n"
     ]
    }
   ],
   "source": [
    "# printing bin file\n",
    "\n",
    "with open('example.bin','rb') as file:      # using rb operation for reading the binary files\n",
    "    content = file.read()\n",
    "    print(content)"
   ]
  },
  {
   "cell_type": "code",
   "execution_count": 40,
   "id": "8dcb6a41",
   "metadata": {},
   "outputs": [],
   "source": [
    "# read the content from the source.txt and write it to a destination.txt file\n",
    "\n",
    "# readinf a file\n",
    "with open('example.txt','r') as source_file:\n",
    "    content = source_file.read()\n",
    "    \n",
    "# writing a file\n",
    "with open('destination.txt','w') as destination_file:\n",
    "    destination_file.write(content)"
   ]
  },
  {
   "cell_type": "code",
   "execution_count": 41,
   "id": "02c750f5",
   "metadata": {},
   "outputs": [
    {
     "name": "stdout",
     "output_type": "stream",
     "text": [
      "Lines: 6, Words: 29, Characters: 144\n"
     ]
    }
   ],
   "source": [
    "# Read a text file and count the number of lines, words, and characters.\n",
    "# Counting lines, words, and characters in a text file\n",
    "\n",
    "def count_text_file(file_path):\n",
    "    with open(file_path, 'r') as file:\n",
    "        lines = file.readlines()\n",
    "        line_count = len(lines)\n",
    "        word_count = sum(len(line.split()) for line in lines)\n",
    "        char_count = sum(len(line) for line in lines)\n",
    "    return line_count, word_count, char_count\n",
    "\n",
    "file_path = 'example.txt'\n",
    "lines, words, characters = count_text_file(file_path)\n",
    "print(f'Lines: {lines}, Words: {words}, Characters: {characters}')\n"
   ]
  },
  {
   "cell_type": "markdown",
   "id": "07eb5af5",
   "metadata": {},
   "source": [
    "The w+ mode in Python is used to open a file for both reading and writing. If the file does not exist, it will be created. If the file exists, its content is truncated (i.e., the file is overwritten).\n"
   ]
  },
  {
   "cell_type": "code",
   "execution_count": 43,
   "id": "2aea0235",
   "metadata": {},
   "outputs": [
    {
     "name": "stdout",
     "output_type": "stream",
     "text": [
      "Hello world!!\n",
      "Ram ram\n",
      "\n"
     ]
    }
   ],
   "source": [
    "# writing and then reading a file\n",
    "\n",
    "with open('example.txt','w+') as file:\n",
    "    file.write(\"Hello world!!\\n\")\n",
    "    file.write(\"Ram ram\\n\")\n",
    "    \n",
    "    # Move the file cursor to the beginning \n",
    "    file.seek(0)\n",
    "    \n",
    "    # Read the content of the file \n",
    "    content = file.read()\n",
    "    print(content)"
   ]
  }
 ],
 "metadata": {
  "kernelspec": {
   "display_name": "Python 3",
   "language": "python",
   "name": "python3"
  },
  "language_info": {
   "codemirror_mode": {
    "name": "ipython",
    "version": 3
   },
   "file_extension": ".py",
   "mimetype": "text/x-python",
   "name": "python",
   "nbconvert_exporter": "python",
   "pygments_lexer": "ipython3",
   "version": "3.12.11"
  }
 },
 "nbformat": 4,
 "nbformat_minor": 5
}

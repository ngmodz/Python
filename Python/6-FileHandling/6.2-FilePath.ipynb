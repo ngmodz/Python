{
 "cells": [
  {
   "cell_type": "code",
   "execution_count": 1,
   "id": "bac11019",
   "metadata": {},
   "outputs": [
    {
     "name": "stdout",
     "output_type": "stream",
     "text": [
      "c:\\Users\\LENOVO\\OneDrive - K.R. MANGALAM UNIVERSITY\\Programs\\Python Bootcamp\\Python\\6-FileHandling\n"
     ]
    }
   ],
   "source": [
    "import os\n",
    "\n",
    "print(os.getcwd())"
   ]
  },
  {
   "cell_type": "code",
   "execution_count": 2,
   "id": "40023ad8",
   "metadata": {},
   "outputs": [
    {
     "name": "stdout",
     "output_type": "stream",
     "text": [
      "Directory 'package' create\n"
     ]
    }
   ],
   "source": [
    "# Creating a new directory \n",
    "\n",
    "new_directory = \"package\"\n",
    "os.mkdir(new_directory)\n",
    "print(f\"Directory '{new_directory}' create\")"
   ]
  },
  {
   "cell_type": "code",
   "execution_count": 4,
   "id": "8b877635",
   "metadata": {},
   "outputs": [
    {
     "name": "stdout",
     "output_type": "stream",
     "text": [
      "['6.1-FileOperation.ipynb', '6.2-FilePath.ipynb', 'destination.txt', 'example.bin', 'example.txt', 'package']\n"
     ]
    }
   ],
   "source": [
    "# listing files and directories\n",
    "\n",
    "items = os.listdir('.')\n",
    "print(items)"
   ]
  },
  {
   "cell_type": "code",
   "execution_count": 5,
   "id": "746c532a",
   "metadata": {},
   "outputs": [
    {
     "name": "stdout",
     "output_type": "stream",
     "text": [
      "folder\\file.txt\n"
     ]
    }
   ],
   "source": [
    "# joining paths\n",
    "\n",
    "dir_name = 'folder'\n",
    "file_name = 'file.txt'\n",
    "\n",
    "full_path = os.path.join(dir_name,file_name)\n",
    "print(full_path)"
   ]
  },
  {
   "cell_type": "code",
   "execution_count": 8,
   "id": "26d933f1",
   "metadata": {},
   "outputs": [
    {
     "name": "stdout",
     "output_type": "stream",
     "text": [
      "c:\\Users\\LENOVO\\OneDrive - K.R. MANGALAM UNIVERSITY\\Programs\\Python Bootcamp\\Python\\6-FileHandling\\folder\\file.txt\n"
     ]
    }
   ],
   "source": [
    "# joining paths\n",
    "\n",
    "dir_name = 'folder'\n",
    "file_name = 'file.txt'\n",
    "\n",
    "full_path = os.path.join(os.getcwd(),dir_name,file_name)\n",
    "print(full_path)"
   ]
  },
  {
   "cell_type": "code",
   "execution_count": 11,
   "id": "da29256a",
   "metadata": {},
   "outputs": [
    {
     "name": "stdout",
     "output_type": "stream",
     "text": [
      "the path 'example1.txt' doesn't exists\n"
     ]
    }
   ],
   "source": [
    "path = 'example1.txt'\n",
    "\n",
    "if os.path.exists(path):\n",
    "    print(f\"the path '{path}' exists\")\n",
    "else:\n",
    "    print(f\"the path '{path}' doesn't exists\")"
   ]
  },
  {
   "cell_type": "code",
   "execution_count": 13,
   "id": "bab65dc5",
   "metadata": {},
   "outputs": [
    {
     "name": "stdout",
     "output_type": "stream",
     "text": [
      "The path 'example.txt' is a file.\n"
     ]
    }
   ],
   "source": [
    "# checking if a path is a file or directory\n",
    "\n",
    "import os\n",
    "\n",
    "path = 'example.txt'\n",
    "if os.path.isfile(path):\n",
    "    print(f\"The path '{path}' is a file.\")\n",
    "elif os.path.isdir(path):\n",
    "    print(f\"The path '{path}' is a directory.\")\n",
    "else:\n",
    "    print(f\"The path '{path}' is neither a file nor a directory.\")\n"
   ]
  },
  {
   "cell_type": "code",
   "execution_count": 14,
   "id": "8c16ef68",
   "metadata": {},
   "outputs": [
    {
     "name": "stdout",
     "output_type": "stream",
     "text": [
      "c:\\Users\\LENOVO\\OneDrive - K.R. MANGALAM UNIVERSITY\\Programs\\Python Bootcamp\\Python\\6-FileHandling\\example.txt\n"
     ]
    }
   ],
   "source": [
    "# getting the absolute path\n",
    "\n",
    "relative_path = 'example.txt'\n",
    "\n",
    "absolute_path = os.path.abspath(relative_path)\n",
    "print(absolute_path)"
   ]
  }
 ],
 "metadata": {
  "kernelspec": {
   "display_name": "Python 3",
   "language": "python",
   "name": "python3"
  },
  "language_info": {
   "codemirror_mode": {
    "name": "ipython",
    "version": 3
   },
   "file_extension": ".py",
   "mimetype": "text/x-python",
   "name": "python",
   "nbconvert_exporter": "python",
   "pygments_lexer": "ipython3",
   "version": "3.12.11"
  }
 },
 "nbformat": 4,
 "nbformat_minor": 5
}
